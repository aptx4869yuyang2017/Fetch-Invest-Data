{
 "cells": [
  {
   "cell_type": "code",
   "execution_count": 1,
   "id": "db4231e8-d2fe-4019-b083-17bc793b380f",
   "metadata": {},
   "outputs": [
    {
     "name": "stderr",
     "output_type": "stream",
     "text": [
      "Setting default log level to \"WARN\".\n",
      "To adjust logging level use sc.setLogLevel(newLevel). For SparkR, use setLogLevel(newLevel).\n",
      "25/03/17 07:22:15 WARN NativeCodeLoader: Unable to load native-hadoop library for your platform... using builtin-java classes where applicable\n"
     ]
    }
   ],
   "source": [
    "import os\n",
    "import warnings\n",
    "from pyspark.sql import SparkSession\n",
    "\n",
    "# 设置 JAVA_HOME\n",
    "os.environ[\"JAVA_HOME\"] = \"/opt/homebrew/opt/openjdk@11\"  # 替换为你的 Java 路径\n",
    "\n",
    "# 初始化 SparkSession\n",
    "spark = SparkSession.builder \\\n",
    "    .appName(\"Test PySpark\") \\\n",
    "    .getOrCreate()\n",
    "spark.sparkContext.setLogLevel(\"ERROR\")"
   ]
  },
  {
   "cell_type": "code",
   "execution_count": 2,
   "id": "c2f87b3b-4aa5-492c-b22f-ad7ba7ad1b6c",
   "metadata": {},
   "outputs": [],
   "source": [
    "parquet_paths = [\n",
    "    \"./data/stock_prices_2000-2025.parquet\",\n",
    "]"
   ]
  },
  {
   "cell_type": "code",
   "execution_count": 3,
   "id": "00649daf-be18-4b0a-805c-1aa10815a4c6",
   "metadata": {},
   "outputs": [],
   "source": [
    "df = spark.read.parquet(*parquet_paths)"
   ]
  },
  {
   "cell_type": "code",
   "execution_count": 4,
   "id": "0bb67cf6-a560-4f87-83a0-ed34f051d463",
   "metadata": {},
   "outputs": [],
   "source": [
    "# 创建临时视图以便使用 SQL 查询\n",
    "df.createOrReplaceTempView(\"stock_price\")\n",
    "\n",
    "# 执行 SQL 查询\n",
    "query = \"\"\"\n",
    "SELECT \n",
    "    year(dt) as year, count(*) as row_cnt, count(distinct symbol) as symbol_cnt\n",
    "FROM stock_price \n",
    "--where adjust_type = 'hfq' and dt = '2023-01-10' and symbol = '000001'\n",
    "group by year(dt)\n",
    "order by year(dt)\n",
    "limit 100;\n",
    "\"\"\""
   ]
  },
  {
   "cell_type": "code",
   "execution_count": 12,
   "id": "40a78be6-f184-42b9-9955-c3bb41b7c47a",
   "metadata": {},
   "outputs": [
    {
     "name": "stdout",
     "output_type": "stream",
     "text": [
      "+----------+------+-------+-------+-------+-------+---------+---------------+---------+--------------+-------------+-------------+-----------+\n",
      "|        dt|symbol|   open|  close|   high|    low|   volume|         amount|amplitude|change_percent|change_amount|turnover_rate|adjust_type|\n",
      "+----------+------+-------+-------+-------+-------+---------+---------------+---------+--------------+-------------+-------------+-----------+\n",
      "|2023-01-09|000001|2603.19|2611.31|2624.31| 2565.8|1057659.0| 1.5613684873E9|     2.27|          1.13|        29.25|         0.55|        hfq|\n",
      "|2023-01-10|000001|2604.81| 2552.8|2625.94|2544.68|1269423.0|1.85109371676E9|     3.11|         -2.24|       -58.51|         0.65|        hfq|\n",
      "|2023-01-09|000001|  14.75|   14.8|  14.88|  14.52|1057659.0| 1.5613684873E9|     2.46|          1.23|         0.18|         0.55|       none|\n",
      "|2023-01-10|000001|  14.76|  14.44|  14.89|  14.39|1269423.0|1.85109371676E9|     3.38|         -2.43|        -0.36|         0.65|       none|\n",
      "+----------+------+-------+-------+-------+-------+---------+---------------+---------+--------------+-------------+-------------+-----------+\n",
      "\n"
     ]
    }
   ],
   "source": [
    "query = \"\"\"\n",
    "SELECT \n",
    "    *\n",
    "FROM stock_price \n",
    "where 1=1\n",
    "    and dt between '2023-01-09' and '2023-01-10'\n",
    "    and symbol = '000001'\n",
    "    -- adjust_type = 'hfq' \n",
    "limit 100;\n",
    "\"\"\"\n",
    "\n",
    "\n",
    "result = spark.sql(query)\n",
    "result.show(50)"
   ]
  },
  {
   "cell_type": "code",
   "execution_count": null,
   "id": "1ca02025-10b2-4df2-9faf-4fc02f7bf757",
   "metadata": {},
   "outputs": [],
   "source": []
  }
 ],
 "metadata": {
  "kernelspec": {
   "display_name": "invest",
   "language": "python",
   "name": "invest"
  },
  "language_info": {
   "codemirror_mode": {
    "name": "ipython",
    "version": 3
   },
   "file_extension": ".py",
   "mimetype": "text/x-python",
   "name": "python",
   "nbconvert_exporter": "python",
   "pygments_lexer": "ipython3",
   "version": "3.11.9"
  }
 },
 "nbformat": 4,
 "nbformat_minor": 5
}
